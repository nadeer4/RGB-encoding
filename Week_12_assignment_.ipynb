{
  "nbformat": 4,
  "nbformat_minor": 0,
  "metadata": {
    "colab": {
      "provenance": [],
      "authorship_tag": "ABX9TyPOctH+C3LQauJWFgSNZC6L",
      "include_colab_link": true
    },
    "kernelspec": {
      "name": "python3",
      "display_name": "Python 3"
    },
    "language_info": {
      "name": "python"
    }
  },
  "cells": [
    {
      "cell_type": "markdown",
      "metadata": {
        "id": "view-in-github",
        "colab_type": "text"
      },
      "source": [
        "<a href=\"https://colab.research.google.com/github/nadeer4/RGB-encoding/blob/main/Week_12_assignment_.ipynb\" target=\"_parent\"><img src=\"https://colab.research.google.com/assets/colab-badge.svg\" alt=\"Open In Colab\"/></a>"
      ]
    },
    {
      "cell_type": "markdown",
      "source": [
        "#Part 1"
      ],
      "metadata": {
        "id": "sqhFVN0KvfrF"
      }
    },
    {
      "cell_type": "markdown",
      "source": [
        "Scenario 2:\n",
        "An entrepreneur wants to open a business to buy and sell used bikes in India. This person wants advice on which city in India to open the first physical store.\n",
        "\n",
        "The given data set from kaggle contains almost 8000 entries of used bikes in India. The data has been collected from an online portal to sell used bikes. The data includes the name of the bike's model, the year of the model, total kilometers driven, the number of owners, location of the seller, average mileage, power, and selling price. However, to determine a location for a buy and sell used bikes business in India, the number of sellers in each location and the prices of the bikes are the most important factors and must be taken into account. The business will be successful if the location has a lot of sellers and a high selling price relative to other locations to take advantage of arbitrage in the market. First, to approach this problem, I will determine how many different locations there are in which a physical store can be opened. I will then narrow down the different location options to top 3. To do so, I will work out which cities in India have the most sellers. After doing so, I will calculate the average bike prices. I will then compare the average bike prices in the top 3 cities with the most sellers using a bar graph. I will also calculate the standard deviation of used bike prices in each city to describe the variability. The city that has a lot of sellers, the highest average selling price, and the highest variability in relation to the average price should be the ideal location to open the first physical store to buy and sell used bikes in India. A high variability means that the business can buy used bikes at a low price and sell them at high prices. A high average selling price will enable the business to make more money on each sale, thus widen margins and the improve the bottom line. A lot of sellers, high price and high variability will result in a higher profit margin and a more successful business. The location with the most sellers, the lowest price and the lowest variability is not ideal because there will be more competition and a low profit margin."
      ],
      "metadata": {
        "id": "s1tAjAGuxeyS"
      }
    },
    {
      "cell_type": "markdown",
      "source": [
        "#Part 2"
      ],
      "metadata": {
        "id": "DL4zuM0izI1p"
      }
    },
    {
      "cell_type": "code",
      "execution_count": null,
      "metadata": {
        "colab": {
          "base_uri": "https://localhost:8080/"
        },
        "id": "789ngKcfWU2c",
        "outputId": "256dafa5-cb48-4043-9835-b01002cf998e"
      },
      "outputs": [
        {
          "output_type": "stream",
          "name": "stdout",
          "text": [
            "                                             model_name  model_year  \\\n",
            "0      Bajaj CT100 B 2016                           ...        2016   \n",
            "1                       Aprilia RSV4 R APRC 1000cc 2014        2014   \n",
            "2                                  Aprilia RSV4 RR 2020        2020   \n",
            "3                              Bajaj  Pulsar 180cc 2008        2008   \n",
            "4                              Bajaj  Pulsar 180cc 2008        2008   \n",
            "...                                                 ...         ...   \n",
            "7851                       Yamaha YZF-R3 320cc ABS 2018        2018   \n",
            "7852                       Yamaha YZF-R3 320cc ABS 2020        2020   \n",
            "7853                       Yamaha YZF-R3 320cc ABS 2020        2020   \n",
            "7854                         Yamaha YZFR15 2.0 150 2016        2016   \n",
            "7855                         Yazdi Road King 250cc 1986        1986   \n",
            "\n",
            "      kms_driven  owner     location   mileage   power    price  \n",
            "0        30000.0      1       mumbai  \\n\\n 67     8.10    32000  \n",
            "1        15000.0      1  kanchipuram  \\n\\n 12   181.44  1100000  \n",
            "2            1.0      1       mumbai     \\n\\n   180.00   900000  \n",
            "3        16000.0      1      gurgaon  \\n\\n 45    17.00     9150  \n",
            "4        24000.0      1       mumbai  \\n\\n 45    17.00    14000  \n",
            "...          ...    ...          ...       ...     ...      ...  \n",
            "7851     17800.0      1        delhi  \\n\\n 22    41.40   290000  \n",
            "7852       285.0      1      kakrala  \\n\\n 22    41.40   300000  \n",
            "7853       216.0      1      chennai  \\n\\n 22    41.40   300000  \n",
            "7854     22000.0      1      bijapur  \\n\\n 42    16.70    85000  \n",
            "7855    100000.0      1      lucknow     \\n\\n    16.00    60000  \n",
            "\n",
            "[7856 rows x 8 columns]\n"
          ]
        }
      ],
      "source": [
        "#import pandas to creat data frame\n",
        "import pandas as pd\n",
        "#command to read the file into a data frame\n",
        "data = pd.read_csv ('/content/bikes.csv')\n",
        "print(data)"
      ]
    },
    {
      "cell_type": "markdown",
      "source": [
        "Relating it back to part 1: Determining the number of different locations in which a store can be opened"
      ],
      "metadata": {
        "id": "t4LH1YwiRJKo"
      }
    },
    {
      "cell_type": "code",
      "source": [
        "#command to show all the unique locations\n",
        "print(data[\"location\"].nunique())"
      ],
      "metadata": {
        "colab": {
          "base_uri": "https://localhost:8080/"
        },
        "id": "yreYXNcj8by-",
        "outputId": "947f6a9d-5c62-4c5d-ce23-c23db56c9e0f"
      },
      "execution_count": null,
      "outputs": [
        {
          "output_type": "stream",
          "name": "stdout",
          "text": [
            "560\n"
          ]
        }
      ]
    },
    {
      "cell_type": "markdown",
      "source": [
        "Relating it back to part 1: Determining the locations with the most sellers"
      ],
      "metadata": {
        "id": "vDQ7MCzzRO8N"
      }
    },
    {
      "cell_type": "code",
      "source": [
        "#sorting data frame by location\n",
        "data.groupby('location').size().sort_values(ascending=False)"
      ],
      "metadata": {
        "colab": {
          "base_uri": "https://localhost:8080/"
        },
        "id": "hCcxufSrD5dv",
        "outputId": "df79508b-3602-4ced-aa05-3b0b51e3e3a1"
      },
      "execution_count": null,
      "outputs": [
        {
          "output_type": "execute_result",
          "data": {
            "text/plain": [
              "location\n",
              "delhi          1437\n",
              "mumbai          857\n",
              "bangalore       783\n",
              "pune            343\n",
              "hyderabad       337\n",
              "               ... \n",
              "kasargod          1\n",
              "karur             1\n",
              "karim nagar       1\n",
              "kanyakumari       1\n",
              "abiramam          1\n",
              "Length: 560, dtype: int64"
            ]
          },
          "metadata": {},
          "execution_count": 4
        }
      ]
    },
    {
      "cell_type": "markdown",
      "source": [
        "Relating it back to part 1: Isololating the data for the the top three locations which the most sellers"
      ],
      "metadata": {
        "id": "6gc7u9F7RZb1"
      }
    },
    {
      "cell_type": "code",
      "source": [
        "#filtering out the dataset to only include data from Delhi, Mumbai and Bangalore\n",
        "delhi = data[(data[\"location\"] == \"delhi\")]\n",
        "print(delhi)\n",
        "mumbai = data[(data[\"location\"] == \"mumbai\")]\n",
        "print(mumbai)\n",
        "bangalore = data[(data[\"location\"] == \"bangalore\")]\n",
        "print(bangalore)"
      ],
      "metadata": {
        "colab": {
          "base_uri": "https://localhost:8080/"
        },
        "id": "P8S14tMu0qTq",
        "outputId": "12ad0ae9-d9bb-4bb9-f265-4b8f16f78e53"
      },
      "execution_count": null,
      "outputs": [
        {
          "output_type": "stream",
          "name": "stdout",
          "text": [
            "                                             model_name  model_year  \\\n",
            "6                              Bajaj  Pulsar 180cc 2011        2011   \n",
            "7                              Bajaj  Pulsar 180cc 2011        2011   \n",
            "10                             Bajaj  Pulsar 180cc 2013        2013   \n",
            "15                             Bajaj Avenger 200cc 2008        2008   \n",
            "19                             Bajaj Avenger 220cc 2010        2010   \n",
            "...                                                 ...         ...   \n",
            "7818                   Yamaha YZF-R15 V3 150CC ABS 2019        2019   \n",
            "7820                   Yamaha YZF-R15 V3 150CC ABS 2019        2019   \n",
            "7821                   Yamaha YZF-R15 V3 150CC ABS 2019        2019   \n",
            "7825  Yamaha YZF-R15 V3 150cc Darknight edition BS6 ...        2020   \n",
            "7851                       Yamaha YZF-R3 320cc ABS 2018        2018   \n",
            "\n",
            "      kms_driven  owner location   mileage  power   price  \n",
            "6        94000.0      1    delhi  \\n\\n 45    17.0   20000  \n",
            "7        43000.0      1    delhi  \\n\\n 45    17.0   22000  \n",
            "10       20000.0      1    delhi  \\n\\n 45    17.0   32000  \n",
            "15       24000.0      1    delhi  \\n\\n 53    19.0   16000  \n",
            "19       20245.0      2    delhi  \\n\\n 40    19.0   39500  \n",
            "...          ...    ...      ...       ...    ...     ...  \n",
            "7818       521.0      1    delhi     \\n\\n    18.7  143000  \n",
            "7820      5500.0      1    delhi     \\n\\n    18.7  145000  \n",
            "7821      1500.0      1    delhi     \\n\\n    18.7  150000  \n",
            "7825      4000.0      2    delhi  \\n\\n 40    18.3   52500  \n",
            "7851     17800.0      1    delhi  \\n\\n 22    41.4  290000  \n",
            "\n",
            "[1437 rows x 8 columns]\n",
            "                                             model_name  model_year  \\\n",
            "0      Bajaj CT100 B 2016                           ...        2016   \n",
            "2                                  Aprilia RSV4 RR 2020        2020   \n",
            "4                              Bajaj  Pulsar 180cc 2008        2008   \n",
            "13                             Bajaj Avenger 180cc 2005        2005   \n",
            "22                             Bajaj Avenger 220cc 2011        2011   \n",
            "...                                                 ...         ...   \n",
            "7827  Yamaha YZF-R15 V3 150cc Darknight edition BS6 ...        2020   \n",
            "7832   Yamaha YZF-R15 V3 150CC Dual Channel ABS VI 2019        2019   \n",
            "7842                         Yamaha YZF-R1M 1000cc 2019        2019   \n",
            "7847                           Yamaha YZF-R3 320cc 2016        2016   \n",
            "7848                           Yamaha YZF-R3 320cc 2016        2016   \n",
            "\n",
            "      kms_driven  owner location   mileage  power   price  \n",
            "0        30000.0      1   mumbai  \\n\\n 67     8.1   32000  \n",
            "2            1.0      1   mumbai     \\n\\n   180.0  900000  \n",
            "4        24000.0      1   mumbai  \\n\\n 45    17.0   14000  \n",
            "13       50000.0      2   mumbai  \\n\\n 40    19.0   30000  \n",
            "22       45000.0      2   mumbai  \\n\\n 40    19.0   28000  \n",
            "...          ...    ...      ...       ...    ...     ...  \n",
            "7827      9200.0      1   mumbai  \\n\\n 40    18.3  150000  \n",
            "7832      7525.0      1   mumbai     \\n\\n    18.3  145000  \n",
            "7842         3.0      1   mumbai  \\n\\n 15   197.0  900000  \n",
            "7847     11000.0      1   mumbai  \\n\\n 22    41.4  259375  \n",
            "7848      9000.0      1   mumbai  \\n\\n 22    41.4  259375  \n",
            "\n",
            "[857 rows x 8 columns]\n",
            "                                            model_name  model_year  \\\n",
            "14                            Bajaj Avenger 180cc 2006        2006   \n",
            "25                            Bajaj Avenger 220cc 2011        2011   \n",
            "35                            Bajaj Avenger 220cc 2012        2012   \n",
            "51                            Bajaj Avenger 220cc 2013        2013   \n",
            "54                            Bajaj Avenger 220cc 2013        2013   \n",
            "...                                                ...         ...   \n",
            "7778                      Yamaha YZF-R15 V3 150cc 2018        2018   \n",
            "7782                      Yamaha YZF-R15 V3 150cc 2018        2018   \n",
            "7785                      Yamaha YZF-R15 V3 150cc 2018        2018   \n",
            "7833  Yamaha YZF-R15 V3 150CC Dual Channel ABS VI 2019        2019   \n",
            "7844                          Yamaha YZF-R3 320cc 2016        2016   \n",
            "\n",
            "      kms_driven  owner   location   mileage  power   price  \n",
            "14       57500.0      1  bangalore  \\n\\n 40    19.0   36000  \n",
            "25       21045.0      2  bangalore  \\n\\n 40    19.0   35000  \n",
            "35       27000.0      1  bangalore  \\n\\n 40    19.0   45000  \n",
            "51       29800.0      1  bangalore  \\n\\n 40    19.0   41000  \n",
            "54       37000.0      1  bangalore  \\n\\n 40    19.0   45000  \n",
            "...          ...    ...        ...       ...    ...     ...  \n",
            "7778     15000.0      1  bangalore     \\n\\n    18.7  128000  \n",
            "7782     14250.0      2  bangalore     \\n\\n    18.7  135000  \n",
            "7785      7500.0      1  bangalore     \\n\\n    18.7  142000  \n",
            "7833      4048.0      1  bangalore     \\n\\n    18.3  150000  \n",
            "7844     35000.0      5  bangalore  \\n\\n 22    41.4  232000  \n",
            "\n",
            "[783 rows x 8 columns]\n"
          ]
        }
      ]
    },
    {
      "cell_type": "markdown",
      "source": [
        "Relating it back part 1: Calculating the average bike price in the top 3 cities with the most sellers"
      ],
      "metadata": {
        "id": "ucWcUb8rRjoe"
      }
    },
    {
      "cell_type": "code",
      "source": [
        "#importing the statistics library\n",
        "import statistics as stats\n",
        "#calculating the mean using scipy library\n",
        "mean_delhi = stats.mean(delhi[\"price\"])\n",
        "print(\"The average price of a used bike in delhi is\", mean_delhi)\n",
        "mean_mumbai = stats.mean(mumbai[\"price\"])\n",
        "print(\"The average price of a used bike in mumbai is\", mean_mumbai)\n",
        "mean_bangalore = stats.mean(bangalore[\"price\"])\n",
        "print(\"The average price of a used bike in bangalore is\", mean_bangalore)"
      ],
      "metadata": {
        "colab": {
          "base_uri": "https://localhost:8080/"
        },
        "id": "Xwr48yo1S3si",
        "outputId": "388040bf-cd7a-4036-e713-b90b552cd218"
      },
      "execution_count": null,
      "outputs": [
        {
          "output_type": "stream",
          "name": "stdout",
          "text": [
            "The average price of a used bike in delhi is 103526.94850382741\n",
            "The average price of a used bike in mumbai is 164682.67211201866\n",
            "The average price of a used bike in bangalore is 116620.61302681992\n"
          ]
        }
      ]
    },
    {
      "cell_type": "markdown",
      "source": [
        "Relating it back to part 1: Comparing the average bike prices in the top 3 cities with the most sellers using a bar graph"
      ],
      "metadata": {
        "id": "WnvYq2AIRvov"
      }
    },
    {
      "cell_type": "code",
      "source": [
        "#import libraries\n",
        "import numpy as np\n",
        "import matplotlib.pyplot as plt\n",
        "#creating the dataset\n",
        "data = {'delhi':mean_delhi, 'mumbai':mean_mumbai, 'bangalore':mean_bangalore}\n",
        "courses = list(data.keys())\n",
        "values = list(data.values())\n",
        "#setting the figure size\n",
        "fig = plt.figure(figsize = (3, 6))\n",
        "#creating the bar plot\n",
        "plt.bar(courses, values, color ='maroon',\n",
        "        width = 0.4)\n",
        "#creating labels\n",
        "plt.xlabel(\"Location\")\n",
        "plt.ylabel(\"Price\")\n",
        "plt.title(\"Average used bike prices in Delhi, Mumbai and Bangalore\")\n",
        "plt.show()"
      ],
      "metadata": {
        "colab": {
          "base_uri": "https://localhost:8080/",
          "height": 404
        },
        "id": "iD332V-ymBqR",
        "outputId": "0a4f2f6b-357c-4605-bf09-091f536a87bd"
      },
      "execution_count": null,
      "outputs": [
        {
          "output_type": "display_data",
          "data": {
            "text/plain": [
              "<Figure size 216x432 with 1 Axes>"
            ],
            "image/png": "[encoded data removed]"
          },
          "metadata": {
            "needs_background": "light"
          }
        }
      ]
    },
    {
      "cell_type": "markdown",
      "source": [
        "Relating it back to part 1: Calculating the standard deviation of used bike prices to describe the variability"
      ],
      "metadata": {
        "id": "x80dUEFnSC_c"
      }
    },
    {
      "cell_type": "code",
      "source": [
        "#importing the statistics library\n",
        "import statistics as stats\n",
        "#calculating the standard deviation using scipy library\n",
        "stdev_delhi = stats.stdev(delhi[\"price\"])\n",
        "print(\"The standard deviation of used bike prices in Delhi is\", stdev_delhi)\n",
        "stdev_mumbai = stats.stdev(mumbai[\"price\"])\n",
        "print(\"The standard deviation of used bike prices in Mumbai is\", stdev_mumbai)\n",
        "stdev_bangalore = stats.stdev(bangalore[\"price\"])\n",
        "print(\"The standard deviation of used bike prices in Bangalore is\", stdev_bangalore)"
      ],
      "metadata": {
        "colab": {
          "base_uri": "https://localhost:8080/"
        },
        "id": "KEDZ_Bt7tor3",
        "outputId": "b29594da-fbcb-4397-d6be-aca307e74f6d"
      },
      "execution_count": null,
      "outputs": [
        {
          "output_type": "stream",
          "name": "stdout",
          "text": [
            "The standard deviation of used bike prices in Delhi is 141966.95642206274\n",
            "The standard deviation of used bike prices in Mumbai is 185166.27910847368\n",
            "The standard deviation of used bike prices in Bangalore is 170609.65506081123\n"
          ]
        }
      ]
    }
  ]
}